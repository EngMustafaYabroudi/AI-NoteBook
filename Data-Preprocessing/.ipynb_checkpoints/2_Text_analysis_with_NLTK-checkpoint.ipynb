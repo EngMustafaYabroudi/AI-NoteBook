{
  "cells": [
    {
      "cell_type": "markdown",
      "metadata": {
        "id": "IC_5O4a8xZ4J"
      },
      "source": [
        "# Let's Say Hello to NLTK\n",
        "\n",
        "***Natural Language Toolkit***\n",
        "- It is a suite of *libraries* and *programs* for symbolic and statistical natural language processing (NLP) for *English* written in the Python programming language. \n",
        "- It was developed by Steven Bird and Edward Loper in the Department of Computer and Information Science at the University of *Pennsylvania*.\n",
        "- NLTK includes graphical demonstrations and sample data.\n",
        "- It is accompanied by a book that explains the underlying concepts behind the language processing tasks supported by the toolkit (Natural Language Processing with Python. https://www.nltk.org/book/) , plus a cookbook (https://github.com/karanmilan/Automatic-Answer-Evaluation/blob/master/Python%203%20Text%20Processing%20with%20NLTK%203%20Cookbook.pdf)\n"
      ]
    },
    {
      "cell_type": "markdown",
      "source": [
        "# Quick Overview of NLTK\n",
        "NLTK stands for the Natural Language Toolkit and is written by two eminent computational linguists, Steven Bird (Senior Research Associate of the LDC and professor at the University of Melbourne) and Ewan Klein (Professor of Linguistics at Edinburgh University). NTLK provides a combination of natural language corpora, lexical resources, and example grammars with language processing algorithms, methodologies and demonstrations for a very pythonic \"batteries included\" view of Natural Language Processing.\n",
        "\n",
        "As such, NLTK is perfect for researh driven (hypothesis driven) workflows for agile data science. Its suite of libraries includes:\n",
        "\n",
        "- tokenization, stemming, and tagging\n",
        "- chunking and parsing\n",
        "- language modeling\n",
        "- classification and clustering\n",
        "- logical semantics\n",
        "\n",
        "NLTK is a useful pedagogical resource for learning NLP with Python and serves as a starting place for producing production grade code that requires natural language analysis. It is also important to understand what NLTK is **not**:\n",
        "\n",
        "- Production ready out of the box\n",
        "- Lightweight\n",
        "- Generally applicable\n",
        "- Magic\n",
        "\n",
        "\n",
        "NLTK provides a variety of tools that can be used to explore the linguistic domain but is not a lightweight dependency that can be easily included in other workflows, especially those that require unit and integration testing or other build processes. This stems from the fact that NLTK includes a lot of added code but also a rich and complete library of corpora that power the built-in algorithms."
      ],
      "metadata": {
        "id": "Mqo0M7vW1zFO"
      }
    },
    {
      "cell_type": "code",
      "execution_count": null,
      "metadata": {
        "id": "ItIfcAKwxZ4V"
      },
      "outputs": [],
      "source": [
        "%matplotlib inline \n",
        "import nltk"
      ]
    },
    {
      "cell_type": "markdown",
      "metadata": {
        "id": "bB0cDxRNxZ4b"
      },
      "source": [
        "If you didn't already, don't forget to download nltk data"
      ]
    },
    {
      "cell_type": "code",
      "execution_count": null,
      "metadata": {
        "colab": {
          "base_uri": "https://localhost:8080/"
        },
        "id": "QyiZdUKYxZ4d",
        "outputId": "24f78172-d5b4-4bc8-82ec-785db5710940"
      },
      "outputs": [
        {
          "output_type": "stream",
          "name": "stderr",
          "text": [
            "[nltk_data] Downloading collection 'all'\n",
            "[nltk_data]    | \n",
            "[nltk_data]    | Downloading package abc to /root/nltk_data...\n",
            "[nltk_data]    |   Unzipping corpora/abc.zip.\n",
            "[nltk_data]    | Downloading package alpino to /root/nltk_data...\n",
            "[nltk_data]    |   Unzipping corpora/alpino.zip.\n",
            "[nltk_data]    | Downloading package averaged_perceptron_tagger to\n",
            "[nltk_data]    |     /root/nltk_data...\n",
            "[nltk_data]    |   Unzipping taggers/averaged_perceptron_tagger.zip.\n",
            "[nltk_data]    | Downloading package averaged_perceptron_tagger_ru to\n",
            "[nltk_data]    |     /root/nltk_data...\n",
            "[nltk_data]    |   Unzipping\n",
            "[nltk_data]    |       taggers/averaged_perceptron_tagger_ru.zip.\n",
            "[nltk_data]    | Downloading package basque_grammars to\n",
            "[nltk_data]    |     /root/nltk_data...\n",
            "[nltk_data]    |   Unzipping grammars/basque_grammars.zip.\n",
            "[nltk_data]    | Downloading package biocreative_ppi to\n",
            "[nltk_data]    |     /root/nltk_data...\n",
            "[nltk_data]    |   Unzipping corpora/biocreative_ppi.zip.\n",
            "[nltk_data]    | Downloading package bllip_wsj_no_aux to\n",
            "[nltk_data]    |     /root/nltk_data...\n",
            "[nltk_data]    |   Unzipping models/bllip_wsj_no_aux.zip.\n",
            "[nltk_data]    | Downloading package book_grammars to\n",
            "[nltk_data]    |     /root/nltk_data...\n",
            "[nltk_data]    |   Unzipping grammars/book_grammars.zip.\n",
            "[nltk_data]    | Downloading package brown to /root/nltk_data...\n",
            "[nltk_data]    |   Unzipping corpora/brown.zip.\n",
            "[nltk_data]    | Downloading package brown_tei to /root/nltk_data...\n",
            "[nltk_data]    |   Unzipping corpora/brown_tei.zip.\n",
            "[nltk_data]    | Downloading package cess_cat to /root/nltk_data...\n",
            "[nltk_data]    |   Unzipping corpora/cess_cat.zip.\n",
            "[nltk_data]    | Downloading package cess_esp to /root/nltk_data...\n",
            "[nltk_data]    |   Unzipping corpora/cess_esp.zip.\n",
            "[nltk_data]    | Downloading package chat80 to /root/nltk_data...\n",
            "[nltk_data]    |   Unzipping corpora/chat80.zip.\n",
            "[nltk_data]    | Downloading package city_database to\n",
            "[nltk_data]    |     /root/nltk_data...\n",
            "[nltk_data]    |   Unzipping corpora/city_database.zip.\n",
            "[nltk_data]    | Downloading package cmudict to /root/nltk_data...\n",
            "[nltk_data]    |   Unzipping corpora/cmudict.zip.\n",
            "[nltk_data]    | Downloading package comparative_sentences to\n",
            "[nltk_data]    |     /root/nltk_data...\n",
            "[nltk_data]    |   Unzipping corpora/comparative_sentences.zip.\n",
            "[nltk_data]    | Downloading package comtrans to /root/nltk_data...\n",
            "[nltk_data]    | Downloading package conll2000 to /root/nltk_data...\n",
            "[nltk_data]    |   Unzipping corpora/conll2000.zip.\n",
            "[nltk_data]    | Downloading package conll2002 to /root/nltk_data...\n",
            "[nltk_data]    |   Unzipping corpora/conll2002.zip.\n",
            "[nltk_data]    | Downloading package conll2007 to /root/nltk_data...\n",
            "[nltk_data]    | Downloading package crubadan to /root/nltk_data...\n",
            "[nltk_data]    |   Unzipping corpora/crubadan.zip.\n",
            "[nltk_data]    | Downloading package dependency_treebank to\n",
            "[nltk_data]    |     /root/nltk_data...\n",
            "[nltk_data]    |   Unzipping corpora/dependency_treebank.zip.\n",
            "[nltk_data]    | Downloading package dolch to /root/nltk_data...\n",
            "[nltk_data]    |   Unzipping corpora/dolch.zip.\n",
            "[nltk_data]    | Downloading package europarl_raw to\n",
            "[nltk_data]    |     /root/nltk_data...\n",
            "[nltk_data]    |   Unzipping corpora/europarl_raw.zip.\n",
            "[nltk_data]    | Downloading package extended_omw to\n",
            "[nltk_data]    |     /root/nltk_data...\n",
            "[nltk_data]    | Downloading package floresta to /root/nltk_data...\n",
            "[nltk_data]    |   Unzipping corpora/floresta.zip.\n",
            "[nltk_data]    | Downloading package framenet_v15 to\n",
            "[nltk_data]    |     /root/nltk_data...\n",
            "[nltk_data]    |   Unzipping corpora/framenet_v15.zip.\n",
            "[nltk_data]    | Downloading package framenet_v17 to\n",
            "[nltk_data]    |     /root/nltk_data...\n",
            "[nltk_data]    |   Unzipping corpora/framenet_v17.zip.\n",
            "[nltk_data]    | Downloading package gazetteers to /root/nltk_data...\n",
            "[nltk_data]    |   Unzipping corpora/gazetteers.zip.\n",
            "[nltk_data]    | Downloading package genesis to /root/nltk_data...\n",
            "[nltk_data]    |   Unzipping corpora/genesis.zip.\n",
            "[nltk_data]    | Downloading package gutenberg to /root/nltk_data...\n",
            "[nltk_data]    |   Unzipping corpora/gutenberg.zip.\n",
            "[nltk_data]    | Downloading package ieer to /root/nltk_data...\n",
            "[nltk_data]    |   Unzipping corpora/ieer.zip.\n",
            "[nltk_data]    | Downloading package inaugural to /root/nltk_data...\n",
            "[nltk_data]    |   Unzipping corpora/inaugural.zip.\n",
            "[nltk_data]    | Downloading package indian to /root/nltk_data...\n",
            "[nltk_data]    |   Unzipping corpora/indian.zip.\n",
            "[nltk_data]    | Downloading package jeita to /root/nltk_data...\n",
            "[nltk_data]    | Downloading package kimmo to /root/nltk_data...\n",
            "[nltk_data]    |   Unzipping corpora/kimmo.zip.\n",
            "[nltk_data]    | Downloading package knbc to /root/nltk_data...\n",
            "[nltk_data]    | Downloading package large_grammars to\n",
            "[nltk_data]    |     /root/nltk_data...\n",
            "[nltk_data]    |   Unzipping grammars/large_grammars.zip.\n",
            "[nltk_data]    | Downloading package lin_thesaurus to\n",
            "[nltk_data]    |     /root/nltk_data...\n",
            "[nltk_data]    |   Unzipping corpora/lin_thesaurus.zip.\n",
            "[nltk_data]    | Downloading package mac_morpho to /root/nltk_data...\n",
            "[nltk_data]    |   Unzipping corpora/mac_morpho.zip.\n",
            "[nltk_data]    | Downloading package machado to /root/nltk_data...\n",
            "[nltk_data]    | Downloading package masc_tagged to /root/nltk_data...\n",
            "[nltk_data]    | Downloading package maxent_ne_chunker to\n",
            "[nltk_data]    |     /root/nltk_data...\n",
            "[nltk_data]    |   Unzipping chunkers/maxent_ne_chunker.zip.\n",
            "[nltk_data]    | Downloading package maxent_treebank_pos_tagger to\n",
            "[nltk_data]    |     /root/nltk_data...\n",
            "[nltk_data]    |   Unzipping taggers/maxent_treebank_pos_tagger.zip.\n",
            "[nltk_data]    | Downloading package moses_sample to\n",
            "[nltk_data]    |     /root/nltk_data...\n",
            "[nltk_data]    |   Unzipping models/moses_sample.zip.\n",
            "[nltk_data]    | Downloading package movie_reviews to\n",
            "[nltk_data]    |     /root/nltk_data...\n",
            "[nltk_data]    |   Unzipping corpora/movie_reviews.zip.\n",
            "[nltk_data]    | Downloading package mte_teip5 to /root/nltk_data...\n",
            "[nltk_data]    |   Unzipping corpora/mte_teip5.zip.\n",
            "[nltk_data]    | Downloading package mwa_ppdb to /root/nltk_data...\n",
            "[nltk_data]    |   Unzipping misc/mwa_ppdb.zip.\n",
            "[nltk_data]    | Downloading package names to /root/nltk_data...\n",
            "[nltk_data]    |   Unzipping corpora/names.zip.\n",
            "[nltk_data]    | Downloading package nombank.1.0 to /root/nltk_data...\n",
            "[nltk_data]    | Downloading package nonbreaking_prefixes to\n",
            "[nltk_data]    |     /root/nltk_data...\n",
            "[nltk_data]    |   Unzipping corpora/nonbreaking_prefixes.zip.\n",
            "[nltk_data]    | Downloading package nps_chat to /root/nltk_data...\n",
            "[nltk_data]    |   Unzipping corpora/nps_chat.zip.\n",
            "[nltk_data]    | Downloading package omw to /root/nltk_data...\n",
            "[nltk_data]    | Downloading package omw-1.4 to /root/nltk_data...\n",
            "[nltk_data]    | Downloading package opinion_lexicon to\n",
            "[nltk_data]    |     /root/nltk_data...\n",
            "[nltk_data]    |   Unzipping corpora/opinion_lexicon.zip.\n",
            "[nltk_data]    | Downloading package panlex_swadesh to\n",
            "[nltk_data]    |     /root/nltk_data...\n",
            "[nltk_data]    | Downloading package paradigms to /root/nltk_data...\n",
            "[nltk_data]    |   Unzipping corpora/paradigms.zip.\n",
            "[nltk_data]    | Downloading package pe08 to /root/nltk_data...\n",
            "[nltk_data]    |   Unzipping corpora/pe08.zip.\n",
            "[nltk_data]    | Downloading package perluniprops to\n",
            "[nltk_data]    |     /root/nltk_data...\n",
            "[nltk_data]    |   Unzipping misc/perluniprops.zip.\n",
            "[nltk_data]    | Downloading package pil to /root/nltk_data...\n",
            "[nltk_data]    |   Unzipping corpora/pil.zip.\n",
            "[nltk_data]    | Downloading package pl196x to /root/nltk_data...\n",
            "[nltk_data]    |   Unzipping corpora/pl196x.zip.\n",
            "[nltk_data]    | Downloading package porter_test to /root/nltk_data...\n",
            "[nltk_data]    |   Unzipping stemmers/porter_test.zip.\n",
            "[nltk_data]    | Downloading package ppattach to /root/nltk_data...\n",
            "[nltk_data]    |   Unzipping corpora/ppattach.zip.\n",
            "[nltk_data]    | Downloading package problem_reports to\n",
            "[nltk_data]    |     /root/nltk_data...\n",
            "[nltk_data]    |   Unzipping corpora/problem_reports.zip.\n",
            "[nltk_data]    | Downloading package product_reviews_1 to\n",
            "[nltk_data]    |     /root/nltk_data...\n",
            "[nltk_data]    |   Unzipping corpora/product_reviews_1.zip.\n",
            "[nltk_data]    | Downloading package product_reviews_2 to\n",
            "[nltk_data]    |     /root/nltk_data...\n",
            "[nltk_data]    |   Unzipping corpora/product_reviews_2.zip.\n",
            "[nltk_data]    | Downloading package propbank to /root/nltk_data...\n",
            "[nltk_data]    | Downloading package pros_cons to /root/nltk_data...\n",
            "[nltk_data]    |   Unzipping corpora/pros_cons.zip.\n",
            "[nltk_data]    | Downloading package ptb to /root/nltk_data...\n",
            "[nltk_data]    |   Unzipping corpora/ptb.zip.\n",
            "[nltk_data]    | Downloading package punkt to /root/nltk_data...\n",
            "[nltk_data]    |   Unzipping tokenizers/punkt.zip.\n",
            "[nltk_data]    | Downloading package qc to /root/nltk_data...\n",
            "[nltk_data]    |   Unzipping corpora/qc.zip.\n",
            "[nltk_data]    | Downloading package reuters to /root/nltk_data...\n",
            "[nltk_data]    | Downloading package rslp to /root/nltk_data...\n",
            "[nltk_data]    |   Unzipping stemmers/rslp.zip.\n",
            "[nltk_data]    | Downloading package rte to /root/nltk_data...\n",
            "[nltk_data]    |   Unzipping corpora/rte.zip.\n",
            "[nltk_data]    | Downloading package sample_grammars to\n",
            "[nltk_data]    |     /root/nltk_data...\n",
            "[nltk_data]    |   Unzipping grammars/sample_grammars.zip.\n",
            "[nltk_data]    | Downloading package semcor to /root/nltk_data...\n",
            "[nltk_data]    | Downloading package senseval to /root/nltk_data...\n",
            "[nltk_data]    |   Unzipping corpora/senseval.zip.\n",
            "[nltk_data]    | Downloading package sentence_polarity to\n",
            "[nltk_data]    |     /root/nltk_data...\n",
            "[nltk_data]    |   Unzipping corpora/sentence_polarity.zip.\n",
            "[nltk_data]    | Downloading package sentiwordnet to\n",
            "[nltk_data]    |     /root/nltk_data...\n",
            "[nltk_data]    |   Unzipping corpora/sentiwordnet.zip.\n",
            "[nltk_data]    | Downloading package shakespeare to /root/nltk_data...\n",
            "[nltk_data]    |   Unzipping corpora/shakespeare.zip.\n",
            "[nltk_data]    | Downloading package sinica_treebank to\n",
            "[nltk_data]    |     /root/nltk_data...\n",
            "[nltk_data]    |   Unzipping corpora/sinica_treebank.zip.\n",
            "[nltk_data]    | Downloading package smultron to /root/nltk_data...\n",
            "[nltk_data]    |   Unzipping corpora/smultron.zip.\n",
            "[nltk_data]    | Downloading package snowball_data to\n",
            "[nltk_data]    |     /root/nltk_data...\n",
            "[nltk_data]    | Downloading package spanish_grammars to\n",
            "[nltk_data]    |     /root/nltk_data...\n",
            "[nltk_data]    |   Unzipping grammars/spanish_grammars.zip.\n",
            "[nltk_data]    | Downloading package state_union to /root/nltk_data...\n",
            "[nltk_data]    |   Unzipping corpora/state_union.zip.\n",
            "[nltk_data]    | Downloading package stopwords to /root/nltk_data...\n",
            "[nltk_data]    |   Unzipping corpora/stopwords.zip.\n",
            "[nltk_data]    | Downloading package subjectivity to\n",
            "[nltk_data]    |     /root/nltk_data...\n",
            "[nltk_data]    |   Unzipping corpora/subjectivity.zip.\n",
            "[nltk_data]    | Downloading package swadesh to /root/nltk_data...\n",
            "[nltk_data]    |   Unzipping corpora/swadesh.zip.\n",
            "[nltk_data]    | Downloading package switchboard to /root/nltk_data...\n",
            "[nltk_data]    |   Unzipping corpora/switchboard.zip.\n",
            "[nltk_data]    | Downloading package tagsets to /root/nltk_data...\n",
            "[nltk_data]    |   Unzipping help/tagsets.zip.\n",
            "[nltk_data]    | Downloading package timit to /root/nltk_data...\n",
            "[nltk_data]    |   Unzipping corpora/timit.zip.\n",
            "[nltk_data]    | Downloading package toolbox to /root/nltk_data...\n",
            "[nltk_data]    |   Unzipping corpora/toolbox.zip.\n",
            "[nltk_data]    | Downloading package treebank to /root/nltk_data...\n",
            "[nltk_data]    |   Unzipping corpora/treebank.zip.\n",
            "[nltk_data]    | Downloading package twitter_samples to\n",
            "[nltk_data]    |     /root/nltk_data...\n",
            "[nltk_data]    |   Unzipping corpora/twitter_samples.zip.\n",
            "[nltk_data]    | Downloading package udhr to /root/nltk_data...\n",
            "[nltk_data]    |   Unzipping corpora/udhr.zip.\n",
            "[nltk_data]    | Downloading package udhr2 to /root/nltk_data...\n",
            "[nltk_data]    |   Unzipping corpora/udhr2.zip.\n",
            "[nltk_data]    | Downloading package unicode_samples to\n",
            "[nltk_data]    |     /root/nltk_data...\n",
            "[nltk_data]    |   Unzipping corpora/unicode_samples.zip.\n",
            "[nltk_data]    | Downloading package universal_tagset to\n",
            "[nltk_data]    |     /root/nltk_data...\n",
            "[nltk_data]    |   Unzipping taggers/universal_tagset.zip.\n",
            "[nltk_data]    | Downloading package universal_treebanks_v20 to\n",
            "[nltk_data]    |     /root/nltk_data...\n",
            "[nltk_data]    | Downloading package vader_lexicon to\n",
            "[nltk_data]    |     /root/nltk_data...\n",
            "[nltk_data]    | Downloading package verbnet to /root/nltk_data...\n",
            "[nltk_data]    |   Unzipping corpora/verbnet.zip.\n",
            "[nltk_data]    | Downloading package verbnet3 to /root/nltk_data...\n",
            "[nltk_data]    |   Unzipping corpora/verbnet3.zip.\n",
            "[nltk_data]    | Downloading package webtext to /root/nltk_data...\n",
            "[nltk_data]    |   Unzipping corpora/webtext.zip.\n",
            "[nltk_data]    | Downloading package wmt15_eval to /root/nltk_data...\n",
            "[nltk_data]    |   Unzipping models/wmt15_eval.zip.\n",
            "[nltk_data]    | Downloading package word2vec_sample to\n",
            "[nltk_data]    |     /root/nltk_data...\n",
            "[nltk_data]    |   Unzipping models/word2vec_sample.zip.\n",
            "[nltk_data]    | Downloading package wordnet to /root/nltk_data...\n",
            "[nltk_data]    | Downloading package wordnet2021 to /root/nltk_data...\n",
            "[nltk_data]    | Downloading package wordnet31 to /root/nltk_data...\n",
            "[nltk_data]    | Downloading package wordnet_ic to /root/nltk_data...\n",
            "[nltk_data]    |   Unzipping corpora/wordnet_ic.zip.\n",
            "[nltk_data]    | Downloading package words to /root/nltk_data...\n",
            "[nltk_data]    |   Unzipping corpora/words.zip.\n",
            "[nltk_data]    | Downloading package ycoe to /root/nltk_data...\n",
            "[nltk_data]    |   Unzipping corpora/ycoe.zip.\n",
            "[nltk_data]    | \n",
            "[nltk_data]  Done downloading collection all\n"
          ]
        },
        {
          "output_type": "execute_result",
          "data": {
            "text/plain": [
              "True"
            ]
          },
          "metadata": {},
          "execution_count": 3
        }
      ],
      "source": [
        "nltk.download('all')\n",
        "\n",
        "# you can download specific data file by write its name, for example to download wordnet:\n",
        "# nltk.download('wordnet')"
      ]
    },
    {
      "cell_type": "markdown",
      "metadata": {
        "id": "A1Hi6UquxZ4f"
      },
      "source": [
        "# A rude hello to nltk"
      ]
    },
    {
      "cell_type": "code",
      "execution_count": null,
      "metadata": {
        "colab": {
          "base_uri": "https://localhost:8080/"
        },
        "id": "XGQcD_8SxZ4h",
        "outputId": "e9ad01e0-e80b-43c5-a46d-b8c9776b9d18"
      },
      "outputs": [
        {
          "output_type": "stream",
          "name": "stdout",
          "text": [
            "Talk to the program by typing in plain English, using normal upper-\n",
            "and lower-case letters and punctuation.  Enter \"quit\" when done.\n",
            "========================================================================\n",
            "I suppose I should say hello.\n",
            ">hi\n",
            "I'm getting bored here. Become more interesting.\n",
            ">what should I say?!\n",
            "Figure it out yourself.\n",
            ">are you a woman?\n",
            "Change the subject before I die of fatal boredom.\n",
            ">you are very rude\n",
            "More like YOU'RE  very rude!\n",
            ">quit\n",
            "Change the subject before I die of fatal boredom.\n"
          ]
        }
      ],
      "source": [
        "nltk.chat.rude_chat()"
      ]
    },
    {
      "cell_type": "markdown",
      "source": [
        "# Working With NLTK Example Data"
      ],
      "metadata": {
        "id": "HO8a3ldg890N"
      }
    },
    {
      "cell_type": "markdown",
      "metadata": {
        "id": "sw0EC6gpxZ4j"
      },
      "source": [
        "The book module contains *sample data* that is used in chapter 1 of nltk book"
      ]
    },
    {
      "cell_type": "code",
      "execution_count": null,
      "metadata": {
        "colab": {
          "base_uri": "https://localhost:8080/"
        },
        "id": "Su-3ADzoxZ4l",
        "outputId": "583b47d9-68bf-4493-8a85-9ae4310da85e"
      },
      "outputs": [
        {
          "output_type": "stream",
          "name": "stdout",
          "text": [
            "*** Introductory Examples for the NLTK Book ***\n",
            "Loading text1, ..., text9 and sent1, ..., sent9\n",
            "Type the name of the text or sentence to view it.\n",
            "Type: 'texts()' or 'sents()' to list the materials.\n",
            "text1: Moby Dick by Herman Melville 1851\n",
            "text2: Sense and Sensibility by Jane Austen 1811\n",
            "text3: The Book of Genesis\n",
            "text4: Inaugural Address Corpus\n",
            "text5: Chat Corpus\n",
            "text6: Monty Python and the Holy Grail\n",
            "text7: Wall Street Journal\n",
            "text8: Personals Corpus\n",
            "text9: The Man Who Was Thursday by G . K . Chesterton 1908\n"
          ]
        }
      ],
      "source": [
        "from nltk.book import *"
      ]
    },
    {
      "cell_type": "code",
      "execution_count": null,
      "metadata": {
        "colab": {
          "base_uri": "https://localhost:8080/"
        },
        "id": "rVSXyDM5xZ4o",
        "outputId": "83ad7f99-b9b2-45b7-92c6-aecd608b4774"
      },
      "outputs": [
        {
          "output_type": "execute_result",
          "data": {
            "text/plain": [
              "<Text: Moby Dick by Herman Melville 1851>"
            ]
          },
          "metadata": {},
          "execution_count": 12
        }
      ],
      "source": [
        "text1"
      ]
    },
    {
      "cell_type": "code",
      "execution_count": null,
      "metadata": {
        "colab": {
          "base_uri": "https://localhost:8080/"
        },
        "id": "GTrWUqAdxZ4r",
        "outputId": "b455720a-5cda-493a-951a-1b64ee0df75f"
      },
      "outputs": [
        {
          "output_type": "execute_result",
          "data": {
            "text/plain": [
              "<Text: Sense and Sensibility by Jane Austen 1811>"
            ]
          },
          "metadata": {},
          "execution_count": 13
        }
      ],
      "source": [
        "text2"
      ]
    },
    {
      "cell_type": "code",
      "execution_count": null,
      "metadata": {
        "colab": {
          "base_uri": "https://localhost:8080/"
        },
        "id": "2Bavbp0kxZ4t",
        "outputId": "1abe90b5-b324-4634-8269-d3ae6a310dc1"
      },
      "outputs": [
        {
          "output_type": "stream",
          "name": "stdout",
          "text": [
            "['[', 'Moby', 'Dick', 'by', 'Herman', 'Melville', '1851', ']', 'ETYMOLOGY', '.', '(', 'Supplied', 'by', 'a', 'Late', 'Consumptive', 'Usher', 'to', 'a', 'Grammar', 'School', ')', 'The', 'pale', 'Usher', '--', 'threadbare', 'in', 'coat', ',', 'heart', ',', 'body', ',', 'and', 'brain', ';', 'I', 'see', 'him', 'now', '.', 'He', 'was', 'ever', 'dusting', 'his', 'old', 'lexicons', 'and', 'grammars', ',', 'with', 'a', 'queer', 'handkerchief', ',', 'mockingly', 'embellished', 'with', 'all', 'the', 'gay', 'flags', 'of', 'all', 'the', 'known', 'nations', 'of', 'the', 'world', '.', 'He', 'loved', 'to', 'dust', 'his', 'old', 'grammars', ';', 'it', 'somehow', 'mildly', 'reminded', 'him', 'of', 'his', 'mortality', '.', '\"', 'While', 'you', 'take', 'in', 'hand', 'to', 'school', 'others', ',']\n"
          ]
        }
      ],
      "source": [
        "print(text1[:100])"
      ]
    },
    {
      "cell_type": "markdown",
      "metadata": {
        "id": "yKVWHsAIxZ4v"
      },
      "source": [
        "\n",
        "## Searching Text\n",
        "all these texts are objects from **nltk.text.Text** class that is a wrapper around a sequence of simple string, It has the following methods:\n",
        "\n",
        "- common_contexts\n",
        "- concordance\n",
        "- collocations\n",
        "- count\n",
        "- plot\n",
        "- findall\n",
        "- index\n",
        "\n",
        "\n",
        "*You shouldn't use this class in production level systems, but it is useful to explore (small) snippets of text in a meaningful fashion.*\n",
        "\n",
        "There are many ways to **examine the context of a text apart from simply reading it**."
      ]
    },
    {
      "cell_type": "markdown",
      "metadata": {
        "id": "AeiPTzDrxZ4w"
      },
      "source": [
        "\n",
        "- A **concordance** view shows us every occurrence of a given word, together with some context. "
      ]
    },
    {
      "cell_type": "code",
      "execution_count": null,
      "metadata": {
        "colab": {
          "base_uri": "https://localhost:8080/"
        },
        "id": "qBG38brOxZ4x",
        "outputId": "1dacd5b9-f11e-46ac-90fe-f41f190421ac"
      },
      "outputs": [
        {
          "output_type": "stream",
          "name": "stdout",
          "text": [
            "Displaying 11 of 11 matches:\n",
            "ong the former , one was of a most monstrous size . ... This came towards us , \n",
            "ON OF THE PSALMS . \" Touching that monstrous bulk of the whale or ork we have r\n",
            "ll over with a heathenish array of monstrous clubs and spears . Some were thick\n",
            "d as you gazed , and wondered what monstrous cannibal and savage could ever hav\n",
            "that has survived the flood ; most monstrous and most mountainous ! That Himmal\n",
            "they might scout at Moby Dick as a monstrous fable , or still worse and more de\n",
            "th of Radney .'\" CHAPTER 55 Of the Monstrous Pictures of Whales . I shall ere l\n",
            "ing Scenes . In connexion with the monstrous pictures of whales , I am strongly\n",
            "ere to enter upon those still more monstrous stories of them which are to be fo\n",
            "ght have been rummaged out of this monstrous cabinet there is no telling . But \n",
            "of Whale - Bones ; for Whales of a monstrous size are oftentimes cast up dead u\n"
          ]
        }
      ],
      "source": [
        "text1.concordance(\"monstrous\")"
      ]
    },
    {
      "cell_type": "markdown",
      "metadata": {
        "id": "hReNYRRGxZ4z"
      },
      "source": [
        "- What other words appear in a **similar range of contexts**? "
      ]
    },
    {
      "cell_type": "code",
      "execution_count": null,
      "metadata": {
        "colab": {
          "base_uri": "https://localhost:8080/"
        },
        "id": "EUH8FvqOxZ40",
        "outputId": "417d701a-1bb6-49b3-c06c-f0895aabc8b7"
      },
      "outputs": [
        {
          "output_type": "stream",
          "name": "stdout",
          "text": [
            "true contemptible christian abundant few part mean careful puzzled\n",
            "mystifying passing curious loving wise doleful gamesome singular\n",
            "delightfully perilous fearless\n"
          ]
        }
      ],
      "source": [
        "text1.similar(\"monstrous\")"
      ]
    },
    {
      "cell_type": "markdown",
      "source": [
        "As you can see, this takes a bit of time to build the index in memory, one of the reasons it's not suggested to use this class in production code."
      ],
      "metadata": {
        "id": "wGupFpU2SV6z"
      }
    },
    {
      "cell_type": "code",
      "execution_count": null,
      "metadata": {
        "id": "ivpHhgkoxZ42",
        "outputId": "04fd6429-a063-468f-cf3e-4c18f8cf4158"
      },
      "outputs": [
        {
          "name": "stdout",
          "output_type": "stream",
          "text": [
            "very so exceedingly heartily a as good great extremely remarkably\n",
            "sweet vast amazingly\n"
          ]
        }
      ],
      "source": [
        "text2.similar(\"monstrous\")"
      ]
    },
    {
      "cell_type": "markdown",
      "metadata": {
        "id": "ad-L1-jcxZ44"
      },
      "source": [
        "Austen uses this word quite differently from Melville; for her, monstrous has positive connotations, and sometimes functions as an intensifier like the word *very*."
      ]
    },
    {
      "cell_type": "markdown",
      "metadata": {
        "id": "n_2bhvisxZ45"
      },
      "source": [
        "- examine just the **contexts that are shared** by two or more words"
      ]
    },
    {
      "cell_type": "code",
      "execution_count": null,
      "metadata": {
        "id": "njxzi2rzxZ46",
        "outputId": "460cc32d-824b-4a98-9a98-c6261d3f9747"
      },
      "outputs": [
        {
          "name": "stdout",
          "output_type": "stream",
          "text": [
            "a_pretty am_glad a_lucky is_pretty be_glad\n"
          ]
        }
      ],
      "source": [
        "text2.common_contexts([\"monstrous\", \"very\"])"
      ]
    },
    {
      "cell_type": "markdown",
      "source": [
        "\n",
        "\n",
        "*   **Collocations** are expressions of multiple words which commonly co-occur.\n",
        "\n",
        "\n",
        "- Thus **red wine** is a collocation, whereas **the wine** is not.\n",
        "- A characteristic of collocations is that they are *resistant to substitution* with words that have similar senses; for example, **maroon wine** sounds definitely odd.\n",
        "\n"
      ],
      "metadata": {
        "id": "JdXFIYsRTJoj"
      }
    },
    {
      "cell_type": "code",
      "source": [
        " text2.collocations()"
      ],
      "metadata": {
        "colab": {
          "base_uri": "https://localhost:8080/"
        },
        "id": "hbkzizLlTf3T",
        "outputId": "145157af-6686-4b57-dbc0-a520a1037c92"
      },
      "execution_count": null,
      "outputs": [
        {
          "output_type": "stream",
          "name": "stdout",
          "text": [
            "Colonel Brandon; Sir John; Lady Middleton; Miss Dashwood; every thing;\n",
            "thousand pounds; dare say; Miss Steeles; said Elinor; Miss Steele;\n",
            "every body; John Dashwood; great deal; Harley Street; Berkeley Street;\n",
            "Miss Dashwoods; young man; Combe Magna; every day; next morning\n"
          ]
        }
      ]
    },
    {
      "cell_type": "code",
      "execution_count": null,
      "metadata": {
        "colab": {
          "base_uri": "https://localhost:8080/"
        },
        "id": "cSx3T_iOxZ4_",
        "outputId": "ed81e74d-25a4-47bf-8589-da86ae3f5fb8"
      },
      "outputs": [
        {
          "output_type": "execute_result",
          "data": {
            "text/plain": [
              "<Text: Inaugural Address Corpus>"
            ]
          },
          "metadata": {},
          "execution_count": 18
        }
      ],
      "source": [
        "text4"
      ]
    },
    {
      "cell_type": "code",
      "source": [
        " text4.collocations(3) #the max number of collocations to print, the default is 20."
      ],
      "metadata": {
        "colab": {
          "base_uri": "https://localhost:8080/"
        },
        "id": "Qp1EVas4TtBL",
        "outputId": "ab280db7-4046-4b80-adc3-8bd1bde1db96"
      },
      "execution_count": null,
      "outputs": [
        {
          "output_type": "stream",
          "name": "stdout",
          "text": [
            "United States; fellow citizens; years ago\n"
          ]
        }
      ]
    },
    {
      "cell_type": "markdown",
      "metadata": {
        "id": "Jg5-RtPZxZ49"
      },
      "source": [
        "- we can also determine the **location of a word** in the text: how many words from the beginning it appears."
      ]
    },
    {
      "cell_type": "markdown",
      "metadata": {
        "id": "uJudDOCXxZ4-"
      },
      "source": [
        "artificial text constructed by joining the texts of the Inaugural Address Corpus end-to-end"
      ]
    },
    {
      "cell_type": "code",
      "execution_count": null,
      "metadata": {
        "id": "_-dF8cTgxZ5A",
        "outputId": "594bc34c-1899-4f1c-bf04-9c5d0474fb32"
      },
      "outputs": [
        {
          "data": {
            "image/png": "[encoded data removed]",
            "text/plain": [
              "<matplotlib.figure.Figure at 0x1e70968f5c0>"
            ]
          },
          "metadata": {},
          "output_type": "display_data"
        }
      ],
      "source": [
        "text4.dispersion_plot([\"citizens\", \"democracy\", \"freedom\", \"duties\", \"America\"])"
      ]
    },
    {
      "cell_type": "markdown",
      "source": [
        "You can create your own text object:"
      ],
      "metadata": {
        "id": "wL8n6pqsXvdw"
      }
    },
    {
      "cell_type": "code",
      "source": [
        "new_text = \"Two plus two is four, minus one that's three. Every day man's on the block. Smoke trees. \" \\\n",
        "\"See your girl in the park, that girl is an uckers. When the thing went quack quack quack, your men were ducking! \" \\\n",
        "\"Hold tight Asznee, my brother. He's got a pumpy. Hold tight my man, my guy. He's got a frisbee. \" \\\n",
        "\"I trap, trap, trap on the phone. Moving that cornflakes, rice crispies. Hold tight my girl Whitney.\"\n",
        "\n",
        "t = Text(new_text.split())\n",
        "t.concordance('trap')"
      ],
      "metadata": {
        "colab": {
          "base_uri": "https://localhost:8080/"
        },
        "id": "LQzPcp2UUyXz",
        "outputId": "4509051d-54b3-4977-89cc-934b29892229"
      },
      "execution_count": null,
      "outputs": [
        {
          "output_type": "stream",
          "name": "stdout",
          "text": [
            "Displaying 1 of 1 matches:\n",
            "y. He's got a frisbee. I trap, trap, trap on the phone. Moving that cornflakes\n"
          ]
        }
      ]
    },
    {
      "cell_type": "markdown",
      "metadata": {
        "id": "j-JHcy86xZ5B"
      },
      "source": [
        "# Counting Vocabulary"
      ]
    },
    {
      "cell_type": "code",
      "source": [
        "text3"
      ],
      "metadata": {
        "colab": {
          "base_uri": "https://localhost:8080/"
        },
        "id": "2gxhxzSaW6hN",
        "outputId": "43fbeffd-317d-4c02-c7d1-6cf06c03b034"
      },
      "execution_count": null,
      "outputs": [
        {
          "output_type": "execute_result",
          "data": {
            "text/plain": [
              "<Text: The Book of Genesis>"
            ]
          },
          "metadata": {},
          "execution_count": 26
        }
      ]
    },
    {
      "cell_type": "code",
      "execution_count": null,
      "metadata": {
        "id": "5ZSBCapoxZ5C",
        "outputId": "12613127-4649-4a13-c42e-e5bd8ab97e17"
      },
      "outputs": [
        {
          "data": {
            "text/plain": [
              "44764"
            ]
          },
          "execution_count": 30,
          "metadata": {},
          "output_type": "execute_result"
        }
      ],
      "source": [
        "len(text3)"
      ]
    },
    {
      "cell_type": "markdown",
      "metadata": {
        "id": "RRGJOU9oxZ5C"
      },
      "source": [
        "- The vocabulary of a text is just the set of tokens that it uses,"
      ]
    },
    {
      "cell_type": "code",
      "execution_count": null,
      "metadata": {
        "id": "lf771B0AxZ5D",
        "outputId": "ef2f486e-334f-4d29-965b-070beb3ad2ba"
      },
      "outputs": [
        {
          "data": {
            "text/plain": [
              "['!',\n",
              " \"'\",\n",
              " '(',\n",
              " ')',\n",
              " ',',\n",
              " ',)',\n",
              " '.',\n",
              " '.)',\n",
              " ':',\n",
              " ';',\n",
              " ';)',\n",
              " '?',\n",
              " '?)',\n",
              " 'A',\n",
              " 'Abel',\n",
              " 'Abelmizraim',\n",
              " 'Abidah',\n",
              " 'Abide',\n",
              " 'Abimael',\n",
              " 'Abimelech']"
            ]
          },
          "execution_count": 35,
          "metadata": {},
          "output_type": "execute_result"
        }
      ],
      "source": [
        "sorted(set(text3))[:20] "
      ]
    },
    {
      "cell_type": "markdown",
      "metadata": {
        "id": "6FfvbOqrxZ5F"
      },
      "source": [
        "How many distinct words does text3 contain? "
      ]
    },
    {
      "cell_type": "code",
      "execution_count": null,
      "metadata": {
        "id": "ZakUnBdTxZ5G",
        "outputId": "2a779a3f-35be-4112-e29c-4990efff6380"
      },
      "outputs": [
        {
          "data": {
            "text/plain": [
              "2789"
            ]
          },
          "execution_count": 42,
          "metadata": {},
          "output_type": "execute_result"
        }
      ],
      "source": [
        "len(set(text3))"
      ]
    },
    {
      "cell_type": "code",
      "source": [
        "text3.vocab()"
      ],
      "metadata": {
        "colab": {
          "base_uri": "https://localhost:8080/"
        },
        "id": "L_p7J_GFXOBo",
        "outputId": "b78ca967-3d17-4cae-ca9b-f5fcea6b8cfc"
      },
      "execution_count": null,
      "outputs": [
        {
          "output_type": "execute_result",
          "data": {
            "text/plain": [
              "FreqDist({',': 3681, 'and': 2428, 'the': 2411, 'of': 1358, '.': 1315, 'And': 1250, 'his': 651, 'he': 648, 'to': 611, ';': 605, ...})"
            ]
          },
          "metadata": {},
          "execution_count": 27
        }
      ]
    },
    {
      "cell_type": "code",
      "execution_count": null,
      "metadata": {
        "colab": {
          "base_uri": "https://localhost:8080/",
          "height": 309
        },
        "id": "38cfT6AsxZ5H",
        "outputId": "ccb737d2-6844-419c-d9f6-a44dab2ff6af"
      },
      "outputs": [
        {
          "output_type": "display_data",
          "data": {
            "text/plain": [
              "<Figure size 432x288 with 1 Axes>"
            ],
            "image/png": "[encoded data removed]"
          },
          "metadata": {
            "needs_background": "light"
          }
        },
        {
          "output_type": "execute_result",
          "data": {
            "text/plain": [
              "<matplotlib.axes._subplots.AxesSubplot at 0x7ffb663b5790>"
            ]
          },
          "metadata": {},
          "execution_count": 28
        }
      ],
      "source": [
        "text3.plot(20) #try 10, 20, 50"
      ]
    },
    {
      "cell_type": "markdown",
      "metadata": {
        "id": "FqdL1bpuxZ5I"
      },
      "source": [
        "Now, let's calculate a measure of the lexical richness of the text"
      ]
    },
    {
      "cell_type": "code",
      "execution_count": null,
      "metadata": {
        "id": "Ur1I9Mc1xZ5J"
      },
      "outputs": [],
      "source": [
        "def lexical_diversity(text):\n",
        "     return len(set(text)) / len(text)    "
      ]
    },
    {
      "cell_type": "code",
      "execution_count": null,
      "metadata": {
        "colab": {
          "base_uri": "https://localhost:8080/"
        },
        "id": "YMzi1jmjxZ5K",
        "outputId": "247c97ea-db9f-4e58-81a4-22018acd04ab"
      },
      "outputs": [
        {
          "output_type": "execute_result",
          "data": {
            "text/plain": [
              "0.06230453042623537"
            ]
          },
          "metadata": {},
          "execution_count": 30
        }
      ],
      "source": [
        "lexical_diversity(text3)"
      ]
    },
    {
      "cell_type": "code",
      "execution_count": null,
      "metadata": {
        "colab": {
          "base_uri": "https://localhost:8080/"
        },
        "id": "9045x0UlxZ5L",
        "outputId": "ddf29f12-a036-45be-9693-d52472c60f8b"
      },
      "outputs": [
        {
          "output_type": "execute_result",
          "data": {
            "text/plain": [
              "0.13477005109975562"
            ]
          },
          "metadata": {},
          "execution_count": 31
        }
      ],
      "source": [
        "lexical_diversity(text5)"
      ]
    },
    {
      "cell_type": "markdown",
      "metadata": {
        "id": "kydppNRjxZ5M"
      },
      "source": [
        "# Frequency Analyses\n",
        "In statistical machine learning approaches to NLP, the very first thing we need to do is count things. NLTK provides two very excellent classes to enable these frequency analyses:\n",
        "\n",
        "- FreqDist: it tells us the frequency of each vocabulary item in the text. \n",
        "- ConditionalFreqDist\n",
        "\n",
        "And these two classes serve as the foundation for most of the probability and statistical analyses that we will conduct.\n"
      ]
    },
    {
      "cell_type": "markdown",
      "metadata": {
        "id": "rTRLS4dqxZ5N"
      },
      "source": [
        "***what makes a text distinct??***\n",
        "\n",
        "**Frequency distribution**"
      ]
    },
    {
      "cell_type": "code",
      "execution_count": null,
      "metadata": {
        "id": "eYcxn8X8xZ5O"
      },
      "outputs": [],
      "source": [
        "fdist1 = FreqDist(text1)"
      ]
    },
    {
      "cell_type": "code",
      "execution_count": null,
      "metadata": {
        "colab": {
          "base_uri": "https://localhost:8080/"
        },
        "id": "th0G_v0CxZ5P",
        "outputId": "c015a047-c13b-413d-9506-7c680fe0b27a"
      },
      "outputs": [
        {
          "output_type": "stream",
          "name": "stdout",
          "text": [
            "<FreqDist with 19317 samples and 260819 outcomes>\n"
          ]
        }
      ],
      "source": [
        "print(fdist1)"
      ]
    },
    {
      "cell_type": "code",
      "execution_count": null,
      "metadata": {
        "colab": {
          "base_uri": "https://localhost:8080/"
        },
        "id": "ehtgS69gxZ5Q",
        "outputId": "0136a6b5-34b0-46c8-e020-d499445d1d60"
      },
      "outputs": [
        {
          "output_type": "stream",
          "name": "stdout",
          "text": [
            "[(',', 18713), ('the', 13721), ('.', 6862), ('of', 6536), ('and', 6024), ('a', 4569), ('to', 4542), (';', 4072), ('in', 3916), ('that', 2982), (\"'\", 2684), ('-', 2552), ('his', 2459), ('it', 2209), ('I', 2124), ('s', 1739), ('is', 1695), ('he', 1661), ('with', 1659), ('was', 1632), ('as', 1620), ('\"', 1478), ('all', 1462), ('for', 1414), ('this', 1280), ('!', 1269), ('at', 1231), ('by', 1137), ('but', 1113), ('not', 1103), ('--', 1070), ('him', 1058), ('from', 1052), ('be', 1030), ('on', 1005), ('so', 918), ('whale', 906), ('one', 889), ('you', 841), ('had', 767), ('have', 760), ('there', 715), ('But', 705), ('or', 697), ('were', 680), ('now', 646), ('which', 640), ('?', 637), ('me', 627), ('like', 624)]\n"
          ]
        }
      ],
      "source": [
        "print(fdist1.most_common(50))"
      ]
    },
    {
      "cell_type": "code",
      "source": [
        "print(fdist1.max()) # The most frequent token in the corpus"
      ],
      "metadata": {
        "colab": {
          "base_uri": "https://localhost:8080/"
        },
        "id": "ao6xn_3Vu-db",
        "outputId": "6664e157-47c5-4fae-8887-d911268e01ee"
      },
      "execution_count": null,
      "outputs": [
        {
          "output_type": "stream",
          "name": "stdout",
          "text": [
            ",\n"
          ]
        }
      ]
    },
    {
      "cell_type": "code",
      "execution_count": null,
      "metadata": {
        "colab": {
          "base_uri": "https://localhost:8080/"
        },
        "id": "aRJGsm37xZ5R",
        "outputId": "9c588acb-43d0-4d95-9ebf-32820408fcb1"
      },
      "outputs": [
        {
          "output_type": "execute_result",
          "data": {
            "text/plain": [
              "906"
            ]
          },
          "metadata": {},
          "execution_count": 40
        }
      ],
      "source": [
        "fdist1['whale']"
      ]
    },
    {
      "cell_type": "markdown",
      "metadata": {
        "id": "KC-TO_ubxZ5R"
      },
      "source": [
        "how about the words that occur once only? the so-called **hapaxes**? "
      ]
    },
    {
      "cell_type": "code",
      "execution_count": null,
      "metadata": {
        "colab": {
          "base_uri": "https://localhost:8080/"
        },
        "id": "eOlootKwxZ5S",
        "outputId": "23e13727-8600-41e6-bdbb-ab2854bcdd3a"
      },
      "outputs": [
        {
          "output_type": "stream",
          "name": "stdout",
          "text": [
            "['Herman', 'Melville', ']', 'ETYMOLOGY', 'Late', 'Consumptive', 'School', 'threadbare', 'lexicons', 'mockingly', 'flags', 'mortality', 'signification', 'HACKLUYT', 'Sw', 'HVAL', 'roundness', 'Dut', 'Ger', 'WALLEN', 'WALW', 'IAN', 'RICHARDSON', 'KETOS', 'GREEK', 'CETUS', 'LATIN', 'WHOEL', 'ANGLO', 'SAXON']\n"
          ]
        }
      ],
      "source": [
        "print(fdist1.hapaxes()[:30]) # over 9000"
      ]
    },
    {
      "cell_type": "markdown",
      "metadata": {
        "id": "upkulc3wxZ5T"
      },
      "source": [
        "how about **long words**?"
      ]
    },
    {
      "cell_type": "code",
      "execution_count": null,
      "metadata": {
        "colab": {
          "base_uri": "https://localhost:8080/"
        },
        "id": "eGKkGlbMxZ5U",
        "outputId": "c06fabd7-65e6-4884-e341-1cd347cbb46f"
      },
      "outputs": [
        {
          "output_type": "stream",
          "name": "stdout",
          "text": [
            "['CIRCUMNAVIGATION', 'Physiognomically', 'apprehensiveness', 'cannibalistically', 'characteristically', 'circumnavigating', 'circumnavigation', 'circumnavigations', 'comprehensiveness', 'hermaphroditical', 'indiscriminately', 'indispensableness', 'irresistibleness', 'physiognomically', 'preternaturalness', 'responsibilities', 'simultaneousness', 'subterraneousness', 'supernaturalness', 'superstitiousness', 'uncomfortableness', 'uncompromisedness', 'undiscriminating', 'uninterpenetratingly']\n"
          ]
        }
      ],
      "source": [
        "V = set(text1) #try it for text5\n",
        "long_words = [w for w in V if len(w) > 15]\n",
        "print(sorted(long_words))"
      ]
    },
    {
      "cell_type": "markdown",
      "metadata": {
        "id": "bM1-xvsCxZ5V"
      },
      "source": [
        "limit the size, try to get frequently-occurring content-bearing words of the text (> 7 chars)"
      ]
    },
    {
      "cell_type": "code",
      "execution_count": null,
      "metadata": {
        "colab": {
          "base_uri": "https://localhost:8080/"
        },
        "id": "koG-6WlRxZ5W",
        "outputId": "0175a7e6-1937-475c-e2e5-b0b1cb3b22fc"
      },
      "outputs": [
        {
          "output_type": "stream",
          "name": "stdout",
          "text": [
            "['American', 'Atlantic', 'Bulkington', 'Canallers', 'Christian', 'Commodore', 'Consider', 'Fedallah', 'Greenland', 'Guernsey', 'Heidelburgh', 'Japanese', 'Jeroboam', 'Leviathan', 'Meantime', 'Meanwhile', 'Mediterranean', 'Moreover', 'NANTUCKET', 'Nantucket', 'Nantucketer', 'Nantucketers', 'Nevertheless', 'Porpoise', 'Queequeg', 'Scoresby', 'Sebastian', 'Starbuck', 'Steelkilt', 'Tashtego']\n"
          ]
        }
      ],
      "source": [
        "fdist = FreqDist(text1) # try it for text 5\n",
        "print(sorted(w for w in set(text1) if len(w) > 7 and fdist[w] > 7)[:30])"
      ]
    },
    {
      "cell_type": "markdown",
      "source": [
        "more likely, it is collocations"
      ],
      "metadata": {
        "id": "AJ7tJHCFZy_l"
      }
    },
    {
      "cell_type": "code",
      "source": [
        " text1.collocations()"
      ],
      "metadata": {
        "colab": {
          "base_uri": "https://localhost:8080/"
        },
        "id": "Y8xyp4lRZ8Bp",
        "outputId": "fe842199-3c9f-4830-d0d6-c21e9551a332"
      },
      "execution_count": null,
      "outputs": [
        {
          "output_type": "stream",
          "name": "stdout",
          "text": [
            "Sperm Whale; Moby Dick; White Whale; old man; Captain Ahab; sperm\n",
            "whale; Right Whale; Captain Peleg; New Bedford; Cape Horn; cried Ahab;\n",
            "years ago; lower jaw; never mind; Father Mapple; cried Stubb; chief\n",
            "mate; white whale; ivory leg; one hand\n"
          ]
        }
      ]
    },
    {
      "cell_type": "markdown",
      "source": [
        "**Conditional frequency distributions** are typically constructed by repeatedly running an experiment under a variety of conditions, and incrementing the sample outcome counts for the appropriate conditions. For example, the following code will produce a conditional frequency distribution that encodes how often each word type occurs, given the length of that word type:"
      ],
      "metadata": {
        "id": "v2s4HQKriOjS"
      }
    },
    {
      "cell_type": "code",
      "source": [
        "[(len(word), word) for word in text1] [:10]"
      ],
      "metadata": {
        "colab": {
          "base_uri": "https://localhost:8080/"
        },
        "id": "G1qHXrbQcIIh",
        "outputId": "6d41c813-adf4-4b7d-c730-1c306b9b321e"
      },
      "execution_count": null,
      "outputs": [
        {
          "output_type": "execute_result",
          "data": {
            "text/plain": [
              "[(1, '['),\n",
              " (4, 'Moby'),\n",
              " (4, 'Dick'),\n",
              " (2, 'by'),\n",
              " (6, 'Herman'),\n",
              " (8, 'Melville'),\n",
              " (4, '1851'),\n",
              " (1, ']'),\n",
              " (9, 'ETYMOLOGY'),\n",
              " (1, '.')]"
            ]
          },
          "metadata": {},
          "execution_count": 10
        }
      ]
    },
    {
      "cell_type": "code",
      "source": [
        "cfdist = nltk.ConditionalFreqDist((len(word), word) for word in text1)"
      ],
      "metadata": {
        "id": "n4QaZZpeh7dQ"
      },
      "execution_count": null,
      "outputs": []
    },
    {
      "cell_type": "code",
      "source": [
        "cfdist.conditions()"
      ],
      "metadata": {
        "id": "yyEdguJTcf7w",
        "outputId": "6639d9b0-801d-455e-b5a9-b84c3d871fc2",
        "colab": {
          "base_uri": "https://localhost:8080/"
        }
      },
      "execution_count": null,
      "outputs": [
        {
          "output_type": "execute_result",
          "data": {
            "text/plain": [
              "[1, 4, 2, 6, 8, 9, 11, 5, 7, 3, 10, 12, 13, 14, 16, 15, 17, 18, 20]"
            ]
          },
          "metadata": {},
          "execution_count": 13
        }
      ]
    },
    {
      "cell_type": "code",
      "source": [
        "cfdist[3]"
      ],
      "metadata": {
        "colab": {
          "base_uri": "https://localhost:8080/"
        },
        "id": "bTFHn7rhjArU",
        "outputId": "27405e46-abaa-4b69-9563-4670f13d3a65"
      },
      "execution_count": null,
      "outputs": [
        {
          "output_type": "execute_result",
          "data": {
            "text/plain": [
              "FreqDist({'the': 13721, 'and': 6024, 'his': 2459, 'was': 1632, 'all': 1462, 'for': 1414, 'but': 1113, 'not': 1103, 'him': 1058, 'one': 889, ...})"
            ]
          },
          "metadata": {},
          "execution_count": 14
        }
      ]
    },
    {
      "cell_type": "code",
      "source": [
        "cfdist[3]['his']"
      ],
      "metadata": {
        "colab": {
          "base_uri": "https://localhost:8080/"
        },
        "id": "Rs0lnjJmjFXW",
        "outputId": "11f5ee8f-a5fd-4985-ba61-83f2dda087cf"
      },
      "execution_count": null,
      "outputs": [
        {
          "output_type": "execute_result",
          "data": {
            "text/plain": [
              "2459"
            ]
          },
          "metadata": {},
          "execution_count": 15
        }
      ]
    },
    {
      "cell_type": "markdown",
      "metadata": {
        "id": "_dbH7wiSxZ5X"
      },
      "source": [
        "# N-grams\n",
        "- A **bigram** is a sequence of two adjacent elements from a string of tokens, which are typically letters, syllables, or words. A bigram is an n-gram for n=2."
      ]
    },
    {
      "cell_type": "code",
      "execution_count": null,
      "metadata": {
        "id": "Kwm7Dl6rxZ5X",
        "outputId": "a66afb93-d554-4413-b369-dc6d8c8a22fc"
      },
      "outputs": [
        {
          "data": {
            "text/plain": [
              "[('more', 'is'), ('is', 'said'), ('said', 'than'), ('than', 'done')]"
            ]
          },
          "execution_count": 80,
          "metadata": {},
          "output_type": "execute_result"
        }
      ],
      "source": [
        "list(bigrams(['more', 'is', 'said', 'than', 'done']))"
      ]
    },
    {
      "cell_type": "code",
      "source": [
        "for ngram in nltk.ngrams([\"The\", \"bear\", \"walked\", \"in\", \"the\", \"woods\", \"at\", \"midnight\"], 5):\n",
        "  print(ngram)"
      ],
      "metadata": {
        "colab": {
          "base_uri": "https://localhost:8080/"
        },
        "id": "yHzJ83VPvO2P",
        "outputId": "22915c06-aecc-4800-a897-2bdcdd02cf5a"
      },
      "execution_count": null,
      "outputs": [
        {
          "output_type": "stream",
          "name": "stdout",
          "text": [
            "('The', 'bear', 'walked', 'in', 'the')\n",
            "('bear', 'walked', 'in', 'the', 'woods')\n",
            "('walked', 'in', 'the', 'woods', 'at')\n",
            "('in', 'the', 'woods', 'at', 'midnight')\n"
          ]
        }
      ]
    },
    {
      "cell_type": "markdown",
      "source": [
        "# Accessing Text Corpora and Lexical Resources\n",
        "\n",
        "## Corpus Linguistics\n",
        "- A large and structured set of texts. \n",
        " (plural: corpora) \n",
        "- Ideally*, a corpus should contain documents selected for variety\n",
        "- They are used\n",
        "    - As training data for various problems\n",
        "    - Do statistical analysis and hypothesis testing.\n",
        "    - Validating linguistic rules within a specific language territory"
      ],
      "metadata": {
        "id": "8eLMnFHEj-Yk"
      }
    },
    {
      "cell_type": "markdown",
      "source": [
        "## Types of Corporas\n",
        "- Plain text corpora\n",
        "    - Project Gutenberg (digitized cultural works (1971))\n",
        "    - British National Corpus: (100-million-word collection consists of the bigger written part (90 %, e.g. newspapers, academic books, letters, essays, etc.) and the smaller spoken part (remaining 10 %, e.g. informal conversations, radio shows, etc.). The spoken part is also available in the audio format.)\n",
        "    - Presidential inaugural addresses\n",
        "    - The Universal Declaration of Human Rights (translated into >300 languages)\n",
        "    - CHILDES (conversations between parents and children)\n",
        "    - Wikipedia\n",
        "    - Google Books\n",
        "    - The entire Web\n",
        "- Annotated corpora\n",
        "    - Brown corpus (has part of speech tags)\n",
        "    - Penn Treebank (complete parse trees of sentences, mostly from the Wall Street Journal)\n",
        "    - SemCor (distinguishes word senses)\n",
        "    - LDC (Linguistic Data Consortium) (many corpuses in many languages for different purposes) \n",
        "\n",
        "corporas can be also catigorized to: monolingual vs multilingual...\n"
      ],
      "metadata": {
        "id": "VxuPoBwokmtt"
      }
    },
    {
      "cell_type": "markdown",
      "source": [
        "![text-corpus-structure.png](data:image/png;base64,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)\n",
        "\n",
        "\n",
        "- **Isloated** texts corporas are just a collection of texts.\n",
        "- **Catigorized** text corporas are texts are grouped into categories that might correspond to genre, source, author, language, etc.\n",
        "- Sometimes these categories **overlap**, notably in the case of topical categories as a text can be relevant to more than one topic.\n",
        "- Text collections have **temporal** structure, news collections being the most common example."
      ],
      "metadata": {
        "id": "zjBDZTnmlSbI"
      }
    },
    {
      "cell_type": "markdown",
      "source": [
        "## Gutenberg Corpus\n",
        "NLTK includes a small selection of texts from the Project Gutenberg electronic text archive, which contains some 25,000 free electronic books."
      ],
      "metadata": {
        "id": "PNJQCNOsow6C"
      }
    },
    {
      "cell_type": "code",
      "source": [
        "from nltk.corpus import gutenberg\n",
        "\n",
        "gutenberg.fileids()"
      ],
      "metadata": {
        "colab": {
          "base_uri": "https://localhost:8080/"
        },
        "id": "mey5giT3knxE",
        "outputId": "84f07a59-f0c3-4f75-eb97-048e0f4582d8"
      },
      "execution_count": null,
      "outputs": [
        {
          "output_type": "execute_result",
          "data": {
            "text/plain": [
              "['austen-emma.txt',\n",
              " 'austen-persuasion.txt',\n",
              " 'austen-sense.txt',\n",
              " 'bible-kjv.txt',\n",
              " 'blake-poems.txt',\n",
              " 'bryant-stories.txt',\n",
              " 'burgess-busterbrown.txt',\n",
              " 'carroll-alice.txt',\n",
              " 'chesterton-ball.txt',\n",
              " 'chesterton-brown.txt',\n",
              " 'chesterton-thursday.txt',\n",
              " 'edgeworth-parents.txt',\n",
              " 'melville-moby_dick.txt',\n",
              " 'milton-paradise.txt',\n",
              " 'shakespeare-caesar.txt',\n",
              " 'shakespeare-hamlet.txt',\n",
              " 'shakespeare-macbeth.txt',\n",
              " 'whitman-leaves.txt']"
            ]
          },
          "metadata": {},
          "execution_count": 50
        }
      ]
    },
    {
      "cell_type": "markdown",
      "source": [
        "we can displays four statistics for each text: average word length, average sentence length, average paragraph length, and the number of times each vocabulary item appears in the text on average (our lexical diversity score) as following:\n"
      ],
      "metadata": {
        "id": "y3KalqXkn1kG"
      }
    },
    {
      "cell_type": "code",
      "source": [
        "for fileid in gutenberg.fileids():\n",
        "    num_chars = len(gutenberg.raw(fileid))\n",
        "    num_words = len(gutenberg.words(fileid))\n",
        "    num_sents = len(gutenberg.sents(fileid))\n",
        "    num_paras = len(gutenberg.paras(fileid))\n",
        "    num_vocab = len(set(w.lower() for w in gutenberg.words(fileid)))\n",
        "    print(round(num_chars/num_words), round(num_words/num_sents), round(num_sents/num_paras), round(num_words/num_vocab), fileid)"
      ],
      "metadata": {
        "colab": {
          "base_uri": "https://localhost:8080/"
        },
        "id": "IP2_IC8unKHv",
        "outputId": "e261df57-c9ae-4dca-c1de-d5cf3483a78e"
      },
      "execution_count": null,
      "outputs": [
        {
          "output_type": "stream",
          "name": "stdout",
          "text": [
            "5 25 3 26 austen-emma.txt\n",
            "5 26 4 17 austen-persuasion.txt\n",
            "5 28 3 22 austen-sense.txt\n",
            "4 34 1 79 bible-kjv.txt\n",
            "5 19 2 5 blake-poems.txt\n",
            "4 19 2 14 bryant-stories.txt\n",
            "4 18 4 12 burgess-busterbrown.txt\n",
            "4 20 2 13 carroll-alice.txt\n",
            "5 20 3 12 chesterton-ball.txt\n",
            "5 23 3 11 chesterton-brown.txt\n",
            "5 19 3 11 chesterton-thursday.txt\n",
            "4 21 3 25 edgeworth-parents.txt\n",
            "5 26 4 15 melville-moby_dick.txt\n",
            "5 52 64 11 milton-paradise.txt\n",
            "4 12 3 9 shakespeare-caesar.txt\n",
            "4 12 3 8 shakespeare-hamlet.txt\n",
            "4 12 3 7 shakespeare-macbeth.txt\n",
            "5 36 2 12 whitman-leaves.txt\n"
          ]
        }
      ]
    },
    {
      "cell_type": "markdown",
      "source": [
        "## Brown Corpus\n",
        "The Brown Corpus was the first million-word electronic corpus of English, created in 1961 at Brown University. This corpus contains text from 500 sources, and the sources have been categorized by genre, such as news, editorial... etc."
      ],
      "metadata": {
        "id": "HjzdIoauo3Gn"
      }
    },
    {
      "cell_type": "code",
      "source": [
        "from nltk.corpus import brown\n",
        "\n",
        "brown.categories()"
      ],
      "metadata": {
        "colab": {
          "base_uri": "https://localhost:8080/"
        },
        "id": "T_HMa8xuo2XM",
        "outputId": "14d5a613-a1c6-4be1-acde-97ef504602a9"
      },
      "execution_count": null,
      "outputs": [
        {
          "output_type": "execute_result",
          "data": {
            "text/plain": [
              "['adventure',\n",
              " 'belles_lettres',\n",
              " 'editorial',\n",
              " 'fiction',\n",
              " 'government',\n",
              " 'hobbies',\n",
              " 'humor',\n",
              " 'learned',\n",
              " 'lore',\n",
              " 'mystery',\n",
              " 'news',\n",
              " 'religion',\n",
              " 'reviews',\n",
              " 'romance',\n",
              " 'science_fiction']"
            ]
          },
          "metadata": {},
          "execution_count": 55
        }
      ]
    },
    {
      "cell_type": "code",
      "source": [
        "brown.words(categories='news')"
      ],
      "metadata": {
        "colab": {
          "base_uri": "https://localhost:8080/"
        },
        "id": "prT2MKokpG9f",
        "outputId": "5007eebc-9d3a-4203-d175-49fda4e339fb"
      },
      "execution_count": null,
      "outputs": [
        {
          "output_type": "execute_result",
          "data": {
            "text/plain": [
              "['The', 'Fulton', 'County', 'Grand', 'Jury', 'said', ...]"
            ]
          },
          "metadata": {},
          "execution_count": 56
        }
      ]
    },
    {
      "cell_type": "markdown",
      "source": [
        "Let us build frequency distributions conditioned by the genre:"
      ],
      "metadata": {
        "id": "VQjXPzC3pd3x"
      }
    },
    {
      "cell_type": "code",
      "source": [
        "cfd = nltk.ConditionalFreqDist(\n",
        "        (genre, word)\n",
        "        for genre in brown.categories()\n",
        "        for word in brown.words(categories=genre))"
      ],
      "metadata": {
        "id": "6KgJOJ7Kpnlq"
      },
      "execution_count": null,
      "outputs": []
    },
    {
      "cell_type": "code",
      "source": [
        "cfd['news']"
      ],
      "metadata": {
        "colab": {
          "base_uri": "https://localhost:8080/"
        },
        "id": "BqOCqn84pz2K",
        "outputId": "18b65b03-e5a9-475a-d81a-89f25260a4a4"
      },
      "execution_count": null,
      "outputs": [
        {
          "output_type": "execute_result",
          "data": {
            "text/plain": [
              "FreqDist({'the': 5580, ',': 5188, '.': 4030, 'of': 2849, 'and': 2146, 'to': 2116, 'a': 1993, 'in': 1893, 'for': 943, 'The': 806, ...})"
            ]
          },
          "metadata": {},
          "execution_count": 60
        }
      ]
    },
    {
      "cell_type": "code",
      "source": [
        "genres = ['news', 'religion', 'hobbies', 'science_fiction', 'romance', 'humor']\n",
        "modals = ['can', 'could', 'may', 'might', 'must', 'will']\n",
        "cfd.tabulate(conditions=genres, samples=modals)"
      ],
      "metadata": {
        "colab": {
          "base_uri": "https://localhost:8080/"
        },
        "id": "H2mH7lgnp4AY",
        "outputId": "bcb27210-5f22-4b17-c244-5f821c080d46"
      },
      "execution_count": null,
      "outputs": [
        {
          "output_type": "stream",
          "name": "stdout",
          "text": [
            "                  can could   may might  must  will \n",
            "           news    93    86    66    38    50   389 \n",
            "       religion    82    59    78    12    54    71 \n",
            "        hobbies   268    58   131    22    83   264 \n",
            "science_fiction    16    49     4    12     8    16 \n",
            "        romance    74   193    11    51    45    43 \n",
            "          humor    16    30     8     8     9    13 \n"
          ]
        }
      ]
    },
    {
      "cell_type": "code",
      "source": [
        "cfd2 = nltk.ConditionalFreqDist(\n",
        "        (genre, word)\n",
        "        for genre in ['news', 'religion']\n",
        "        for word in brown.words(categories=genre))"
      ],
      "metadata": {
        "id": "jvuCBET3qVuT"
      },
      "execution_count": null,
      "outputs": []
    },
    {
      "cell_type": "markdown",
      "source": [
        "# Lexical Resources\n",
        "- A lexicon, or lexical resource, is a collection of words and/or phrases along with associated information such as part of speech and sense definitions.\n",
        "- A lexical entry consists of a **headword** (also known as a **lemma**) along with additional information such as the part of speech and the sense definition. Two distinct words having the same spelling are called **homonyms**."
      ],
      "metadata": {
        "id": "Y3ir73JtrgpI"
      }
    },
    {
      "cell_type": "markdown",
      "source": [
        "## Wordlist Corpora\n",
        "-  The **Words** Corpus: used by some spell checkers\n",
        "\n",
        "\n",
        "![lexicon.png](data:image/png;base64,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)"
      ],
      "metadata": {
        "id": "kv_UxzxBr8uR"
      }
    },
    {
      "cell_type": "code",
      "source": [
        "print(nltk.corpus.words.words()[:30])"
      ],
      "metadata": {
        "colab": {
          "base_uri": "https://localhost:8080/"
        },
        "id": "E19FuCGMrfYJ",
        "outputId": "d7a51159-24b7-43ab-f712-319f41c68d22"
      },
      "execution_count": null,
      "outputs": [
        {
          "output_type": "stream",
          "name": "stdout",
          "text": [
            "['A', 'a', 'aa', 'aal', 'aalii', 'aam', 'Aani', 'aardvark', 'aardwolf', 'Aaron', 'Aaronic', 'Aaronical', 'Aaronite', 'Aaronitic', 'Aaru', 'Ab', 'aba', 'Ababdeh', 'Ababua', 'abac', 'abaca', 'abacate', 'abacay', 'abacinate', 'abacination', 'abaciscus', 'abacist', 'aback', 'abactinal', 'abactinally']\n"
          ]
        }
      ]
    },
    {
      "cell_type": "code",
      "source": [
        "def unusual_words(text):\n",
        "    text_vocab = set(w.lower() for w in text if w.isalpha())\n",
        "    english_vocab = set(w.lower() for w in nltk.corpus.words.words())\n",
        "    unusual = text_vocab - english_vocab\n",
        "    return sorted(unusual)"
      ],
      "metadata": {
        "id": "NxpDsOCCqK3U"
      },
      "execution_count": null,
      "outputs": []
    },
    {
      "cell_type": "code",
      "source": [
        "print(unusual_words(nltk.corpus.gutenberg.words('austen-sense.txt'))[:30])"
      ],
      "metadata": {
        "colab": {
          "base_uri": "https://localhost:8080/"
        },
        "id": "jxtOcAdtsFko",
        "outputId": "0d017d00-c69b-41be-ca15-7fe37a8b8abc"
      },
      "execution_count": null,
      "outputs": [
        {
          "output_type": "stream",
          "name": "stdout",
          "text": [
            "['abbeyland', 'abhorred', 'abilities', 'abounded', 'abridgement', 'abused', 'abuses', 'accents', 'accepting', 'accommodations', 'accompanied', 'accounted', 'accounts', 'accustomary', 'aches', 'acknowledging', 'acknowledgment', 'acknowledgments', 'acquaintances', 'acquiesced', 'acquitted', 'acquitting', 'acted', 'actions', 'adapted', 'adding', 'additions', 'addressed', 'addresses', 'addressing']\n"
          ]
        }
      ]
    },
    {
      "cell_type": "markdown",
      "source": [
        "Why abused and abuses is unusual?!!"
      ],
      "metadata": {
        "id": "4O29Y13DsagP"
      }
    },
    {
      "cell_type": "code",
      "source": [
        "nltk.corpus.words.words().index('abuse')"
      ],
      "metadata": {
        "colab": {
          "base_uri": "https://localhost:8080/"
        },
        "id": "oJMITOb8sRvF",
        "outputId": "f81a0f03-aee2-4fac-af4d-c06ee413e410"
      },
      "execution_count": null,
      "outputs": [
        {
          "output_type": "execute_result",
          "data": {
            "text/plain": [
              "649"
            ]
          },
          "metadata": {},
          "execution_count": 68
        }
      ]
    },
    {
      "cell_type": "markdown",
      "source": [
        "## Stopwords"
      ],
      "metadata": {
        "id": "NjBNHeCWsktp"
      }
    },
    {
      "cell_type": "code",
      "source": [
        "from nltk.corpus import stopwords\n",
        "\n",
        "print(stopwords.words('english'))"
      ],
      "metadata": {
        "colab": {
          "base_uri": "https://localhost:8080/"
        },
        "id": "Zbd-zl8csmh1",
        "outputId": "0752040d-2878-4c7f-aeb5-7cd05a37b9b7"
      },
      "execution_count": null,
      "outputs": [
        {
          "output_type": "stream",
          "name": "stdout",
          "text": [
            "['i', 'me', 'my', 'myself', 'we', 'our', 'ours', 'ourselves', 'you', \"you're\", \"you've\", \"you'll\", \"you'd\", 'your', 'yours', 'yourself', 'yourselves', 'he', 'him', 'his', 'himself', 'she', \"she's\", 'her', 'hers', 'herself', 'it', \"it's\", 'its', 'itself', 'they', 'them', 'their', 'theirs', 'themselves', 'what', 'which', 'who', 'whom', 'this', 'that', \"that'll\", 'these', 'those', 'am', 'is', 'are', 'was', 'were', 'be', 'been', 'being', 'have', 'has', 'had', 'having', 'do', 'does', 'did', 'doing', 'a', 'an', 'the', 'and', 'but', 'if', 'or', 'because', 'as', 'until', 'while', 'of', 'at', 'by', 'for', 'with', 'about', 'against', 'between', 'into', 'through', 'during', 'before', 'after', 'above', 'below', 'to', 'from', 'up', 'down', 'in', 'out', 'on', 'off', 'over', 'under', 'again', 'further', 'then', 'once', 'here', 'there', 'when', 'where', 'why', 'how', 'all', 'any', 'both', 'each', 'few', 'more', 'most', 'other', 'some', 'such', 'no', 'nor', 'not', 'only', 'own', 'same', 'so', 'than', 'too', 'very', 's', 't', 'can', 'will', 'just', 'don', \"don't\", 'should', \"should've\", 'now', 'd', 'll', 'm', 'o', 're', 've', 'y', 'ain', 'aren', \"aren't\", 'couldn', \"couldn't\", 'didn', \"didn't\", 'doesn', \"doesn't\", 'hadn', \"hadn't\", 'hasn', \"hasn't\", 'haven', \"haven't\", 'isn', \"isn't\", 'ma', 'mightn', \"mightn't\", 'mustn', \"mustn't\", 'needn', \"needn't\", 'shan', \"shan't\", 'shouldn', \"shouldn't\", 'wasn', \"wasn't\", 'weren', \"weren't\", 'won', \"won't\", 'wouldn', \"wouldn't\"]\n"
          ]
        }
      ]
    },
    {
      "cell_type": "markdown",
      "source": [
        "**Let**'s define a function to compute what fraction of words in a text are not in the stopwords list:"
      ],
      "metadata": {
        "id": "tSSJ7H_qsrwA"
      }
    },
    {
      "cell_type": "code",
      "source": [
        "def content_fraction(text):\n",
        "    stopwords = nltk.corpus.stopwords.words('english')\n",
        "    content = [w for w in text if w.lower() not in stopwords]\n",
        "    return len(content) / len(text)"
      ],
      "metadata": {
        "id": "yd-8Ktfssqgd"
      },
      "execution_count": null,
      "outputs": []
    },
    {
      "cell_type": "code",
      "source": [
        "content_fraction(nltk.corpus.gutenberg.words('austen-sense.txt'))"
      ],
      "metadata": {
        "colab": {
          "base_uri": "https://localhost:8080/"
        },
        "id": "5viTc23ssw6I",
        "outputId": "7e9bddaa-f635-4123-ba20-c0e5ea00bc1b"
      },
      "execution_count": null,
      "outputs": [
        {
          "output_type": "execute_result",
          "data": {
            "text/plain": [
              "0.5285429733853195"
            ]
          },
          "metadata": {},
          "execution_count": 71
        }
      ]
    },
    {
      "cell_type": "code",
      "source": [
        "content_fraction(nltk.corpus.brown.words(categories='news'))"
      ],
      "metadata": {
        "colab": {
          "base_uri": "https://localhost:8080/"
        },
        "id": "PS2EEsWus9Eb",
        "outputId": "5deccc6e-b87c-4753-ff9b-3a20d96b2682"
      },
      "execution_count": null,
      "outputs": [
        {
          "output_type": "execute_result",
          "data": {
            "text/plain": [
              "0.6338783141396662"
            ]
          },
          "metadata": {},
          "execution_count": 77
        }
      ]
    }
  ],
  "metadata": {
    "kernelspec": {
      "display_name": "Python 3",
      "language": "python",
      "name": "python3"
    },
    "language_info": {
      "codemirror_mode": {
        "name": "ipython",
        "version": 3
      },
      "file_extension": ".py",
      "mimetype": "text/x-python",
      "name": "python",
      "nbconvert_exporter": "python",
      "pygments_lexer": "ipython3",
      "version": "3.6.4"
    },
    "colab": {
      "provenance": []
    }
  },
  "nbformat": 4,
  "nbformat_minor": 0
}